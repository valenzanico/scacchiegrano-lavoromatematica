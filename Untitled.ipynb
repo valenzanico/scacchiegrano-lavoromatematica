{
 "cells": [
  {
   "cell_type": "code",
   "execution_count": 45,
   "id": "6ad597f7",
   "metadata": {
    "scrolled": true
   },
   "outputs": [
    {
     "data": {
      "text/html": [
       "<script>\n",
       "code_show=true; \n",
       "function code_toggle() {\n",
       " if (code_show){\n",
       " $('div.input').hide();\n",
       " } else {\n",
       " $('div.input').show();\n",
       " }\n",
       " code_show = !code_show\n",
       "} \n",
       "$( document ).ready(code_toggle);\n",
       "\n",
       "function start_code() {\n",
       "require(\n",
       "        ['base/js/namespace', 'jquery'], \n",
       "        function(jupyter, $) {\n",
       "                console.log(\"Auto-running all cells-below...\");\n",
       "                jupyter.actions.call('jupyter-notebook:run-all-cells-below');\n",
       "                jupyter.actions.call('jupyter-notebook:save-notebook');\n",
       "            }\n",
       "    );\n",
       "}\n",
       "</script>\n",
       "<button onclick=\"start_code()\">fai partire l app</button>\n",
       "<button onclick=\"code_toggle()\">guarda/nascondi il codice</button>\n"
      ],
      "text/plain": [
       "<IPython.core.display.HTML object>"
      ]
     },
     "metadata": {},
     "output_type": "display_data"
    }
   ],
   "source": [
    "%%html\n",
    "<script>\n",
    "code_show=true; \n",
    "function code_toggle() {\n",
    " if (code_show){\n",
    " $('div.input').hide();\n",
    " } else {\n",
    " $('div.input').show();\n",
    " }\n",
    " code_show = !code_show\n",
    "} \n",
    "$( document ).ready(code_toggle);\n",
    "\n",
    "function start_code() {\n",
    "require(\n",
    "        ['base/js/namespace', 'jquery'], \n",
    "        function(jupyter, $) {\n",
    "                console.log(\"Auto-running all cells-below...\");\n",
    "                jupyter.actions.call('jupyter-notebook:run-all-cells-below');\n",
    "                jupyter.actions.call('jupyter-notebook:save-notebook');\n",
    "            }\n",
    "    );\n",
    "}\n",
    "</script>\n",
    "<button onclick=\"start_code()\">fai partire l app</button>\n",
    "<button onclick=\"code_toggle()\">guarda/nascondi il codice</button>\n"
   ]
  },
  {
   "cell_type": "code",
   "execution_count": 47,
   "id": "b2712468",
   "metadata": {
    "scrolled": false
   },
   "outputs": [
    {
     "data": {
      "text/html": [
       "<h1 align=\"center\">Dati sul grano</h1>\n"
      ],
      "text/plain": [
       "<IPython.core.display.HTML object>"
      ]
     },
     "metadata": {},
     "output_type": "display_data"
    },
    {
     "data": {
      "application/vnd.jupyter.widget-view+json": {
       "model_id": "38a5738ac89548cba668513e6233c71d",
       "version_major": 2,
       "version_minor": 0
      },
      "text/plain": [
       "Box(children=(Checkbox(value=True, description='Produzione'), Checkbox(value=True, description='Prezzo'), Chec…"
      ]
     },
     "metadata": {},
     "output_type": "display_data"
    },
    {
     "data": {
      "application/vnd.jupyter.widget-view+json": {
       "model_id": "9c770c6f444e424489959f16b6517ac7",
       "version_major": 2,
       "version_minor": 0
      },
      "text/plain": [
       "Canvas(toolbar=Toolbar(toolitems=[('Home', 'Reset original view', 'home', 'home'), ('Back', 'Back to previous …"
      ]
     },
     "metadata": {},
     "output_type": "display_data"
    },
    {
     "data": {
      "application/vnd.jupyter.widget-view+json": {
       "model_id": "88186b56a3f14c01b9596feb639b55e3",
       "version_major": 2,
       "version_minor": 0
      },
      "text/plain": [
       "Canvas(toolbar=Toolbar(toolitems=[('Home', 'Reset original view', 'home', 'home'), ('Back', 'Back to previous …"
      ]
     },
     "metadata": {},
     "output_type": "display_data"
    },
    {
     "data": {
      "application/vnd.jupyter.widget-view+json": {
       "model_id": "eada0406c1b5400881635f87a38123bd",
       "version_major": 2,
       "version_minor": 0
      },
      "text/plain": [
       "Canvas(toolbar=Toolbar(toolitems=[('Home', 'Reset original view', 'home', 'home'), ('Back', 'Back to previous …"
      ]
     },
     "metadata": {},
     "output_type": "display_data"
    },
    {
     "data": {
      "application/vnd.jupyter.widget-view+json": {
       "model_id": "1d6fa63bf1e64bc49d2a17874abb949d",
       "version_major": 2,
       "version_minor": 0
      },
      "text/plain": [
       "Canvas(toolbar=Toolbar(toolitems=[('Home', 'Reset original view', 'home', 'home'), ('Back', 'Back to previous …"
      ]
     },
     "metadata": {},
     "output_type": "display_data"
    }
   ],
   "source": [
    "#codice main\n",
    "#questo codice genera il grafico\n",
    "%matplotlib widget\n",
    "import matplotlib.pyplot as plt\n",
    "from IPython.display import display, Markdown, HTML\n",
    "import pandas as pd\n",
    "import json\n",
    "import ipywidgets as widgets\n",
    "\n",
    "plt.ion()\n",
    "\n",
    "def get_coordinates(file):\n",
    "    x = []\n",
    "    y = []\n",
    "    file = open(file, \"r\")\n",
    "    jsonraw = json.load(file)\n",
    "    jsonraw = jsonraw[\"node\"]\n",
    "    for year in jsonraw[\"years\"]:\n",
    "        x.append(year[\"year\"])\n",
    "    for data in jsonraw[\"datas\"]:\n",
    "        y.append(data[\"data\"])\n",
    "    return x, y\n",
    "\n",
    "display(HTML('''<h1 align=\"center\">Dati sul grano</h1>\n",
    "'''))\n",
    "\n",
    "production_toggle = widgets.Checkbox(\n",
    "    value=True,\n",
    "    description='Produzione',\n",
    "    disabled=False\n",
    ")\n",
    "price_toggle = widgets.Checkbox(\n",
    "    value=True,\n",
    "    description='Prezzo',\n",
    "    disabled=False\n",
    ")\n",
    "yield_toggle = widgets.Checkbox(\n",
    "    value=True,\n",
    "    description='Raccolto',\n",
    "    disabled=False\n",
    ")\n",
    "harvestedarea_toggle = widgets.Checkbox(\n",
    "    value=True,\n",
    "    description='Area coltivata',\n",
    "    disabled=False\n",
    ")\n",
    "toggles_container = widgets.Box([production_toggle, price_toggle, yield_toggle, harvestedarea_toggle])\n",
    "display(toggles_container)\n",
    "\n",
    "production_years, production_datas= get_coordinates(\"final-production-v2104.json\")\n",
    "production_fig, production_ax = plt.subplots()\n",
    "production_graph = production_ax.plot(production_years, production_datas)[0]\n",
    "production_fig.canvas.header_visible = False\n",
    "production_ax.set_title(\"PRODUZIONE\")\n",
    "\n",
    "price_years, price_datas = get_coordinates(\"final-price-v2304.json\")\n",
    "price_fig, price_ax = plt.subplots()\n",
    "price_graph = price_ax.plot(price_years, price_datas)[0]\n",
    "price_fig.canvas.header_visible = False\n",
    "price_ax.set_title(\"PREZZO\")\n",
    "\n",
    "yield_years, yield_datas = get_coordinates(\"final-yield-v2304.json\")\n",
    "yield_fig, yield_ax = plt.subplots()\n",
    "yield_graph = yield_ax.plot(yield_years, yield_datas)[0]\n",
    "yield_fig.canvas.header_visible = False\n",
    "yield_ax.set_title(\"RACCOLTO\")\n",
    "\n",
    "harvestedarea_years, harvestedarea_datas = get_coordinates(\"final-harvestedarea-v2304.json\")\n",
    "harvestedarea_fig, harvestedarea_ax = plt.subplots()\n",
    "harvestedarea_graph = harvestedarea_ax.plot(harvestedarea_years, harvestedarea_datas)[0]\n",
    "harvestedarea_fig.canvas.header_visible = False\n",
    "harvestedarea_ax.set_title(\"SUPERFICIE COLTIVATA\")\n",
    "\n",
    "def handle_prod(e):\n",
    "    if e[\"new\"] == True:\n",
    "        production_fig.canvas.layout.display = \"inline-flex\"\n",
    "    elif e[\"new\"] == False:\n",
    "        production_fig.canvas.layout.display = \"none\"\n",
    "production_toggle.observe(handle_prod, names=\"value\")\n",
    "\n",
    "def handle_price(e):\n",
    "    if e[\"new\"] == True:\n",
    "        price_fig.canvas.layout.display = \"inline-flex\"\n",
    "    elif e[\"new\"] == False:\n",
    "        price_fig.canvas.layout.display = \"none\"\n",
    "price_toggle.observe(handle_price, names=\"value\")\n",
    "\n",
    "def handle_yield(e):\n",
    "    if e[\"new\"] == True:\n",
    "        yield_fig.canvas.layout.display = \"inline-flex\"\n",
    "    elif e[\"new\"] == False:\n",
    "        yield_fig.canvas.layout.display = \"none\"\n",
    "yield_toggle.observe(handle_yield, names=\"value\")\n",
    "\n",
    "def handle_harvestedarea(e):\n",
    "    if e[\"new\"] == True:\n",
    "        harvestedarea_fig.canvas.layout.display = \"inline-flex\"\n",
    "    elif e[\"new\"] == False:\n",
    "        harvestedarea_fig.canvas.layout.display = \"none\"\n",
    "harvestedarea_toggle.observe(handle_harvestedarea, names=\"value\")\n"
   ]
  },
  {
   "cell_type": "code",
   "execution_count": null,
   "id": "f6398c98",
   "metadata": {},
   "outputs": [],
   "source": [
    "\n"
   ]
  }
 ],
 "metadata": {
  "kernelspec": {
   "display_name": "Python 3",
   "language": "python",
   "name": "python3"
  },
  "language_info": {
   "codemirror_mode": {
    "name": "ipython",
    "version": 3
   },
   "file_extension": ".py",
   "mimetype": "text/x-python",
   "name": "python",
   "nbconvert_exporter": "python",
   "pygments_lexer": "ipython3",
   "version": "3.8.5"
  }
 },
 "nbformat": 4,
 "nbformat_minor": 5
}
