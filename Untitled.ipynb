{
 "cells": [
  {
   "cell_type": "code",
   "execution_count": null,
   "id": "6ad597f7",
   "metadata": {
    "scrolled": true
   },
   "outputs": [],
   "source": [
    "%%html\n",
    "<script>\n",
    "code_show=true; \n",
    "function code_toggle() {\n",
    " if (code_show){\n",
    " $('div.input').hide();\n",
    " } else {\n",
    " $('div.input').show();\n",
    " }\n",
    " code_show = !code_show\n",
    "} \n",
    "$( document ).ready(code_toggle);\n",
    "\n",
    "function start_code() {\n",
    "require(\n",
    "        ['base/js/namespace', 'jquery'], \n",
    "        function(jupyter, $) {\n",
    "                console.log(\"Auto-running all cells-below...\");\n",
    "                jupyter.actions.call('jupyter-notebook:run-all-cells-below');\n",
    "                jupyter.actions.call('jupyter-notebook:save-notebook');\n",
    "            }\n",
    "    );\n",
    "}\n",
    "</script>\n",
    "<button onclick=\"start_code()\">fai partire l app</button>\n",
    "<button onclick=\"code_toggle()\">guarda/nascondi il codice</button>\n"
   ]
  },
  {
   "cell_type": "code",
   "execution_count": 19,
   "id": "b2712468",
   "metadata": {
    "scrolled": true
   },
   "outputs": [
    {
     "data": {
      "application/vnd.jupyter.widget-view+json": {
       "model_id": "14ba88a5acbb4db28f6043a554dd6a75",
       "version_major": 2,
       "version_minor": 0
      },
      "text/plain": [
       "Canvas(toolbar=Toolbar(toolitems=[('Home', 'Reset original view', 'home', 'home'), ('Back', 'Back to previous …"
      ]
     },
     "metadata": {},
     "output_type": "display_data"
    },
    {
     "data": {
      "application/vnd.jupyter.widget-view+json": {
       "model_id": "44ffafb08d714b018a39a697944d9ca3",
       "version_major": 2,
       "version_minor": 0
      },
      "text/plain": [
       "Canvas(toolbar=Toolbar(toolitems=[('Home', 'Reset original view', 'home', 'home'), ('Back', 'Back to previous …"
      ]
     },
     "metadata": {},
     "output_type": "display_data"
    },
    {
     "data": {
      "application/vnd.jupyter.widget-view+json": {
       "model_id": "d177130ad42f473ebcd0dd5771ff0912",
       "version_major": 2,
       "version_minor": 0
      },
      "text/plain": [
       "Canvas(toolbar=Toolbar(toolitems=[('Home', 'Reset original view', 'home', 'home'), ('Back', 'Back to previous …"
      ]
     },
     "metadata": {},
     "output_type": "display_data"
    },
    {
     "data": {
      "application/vnd.jupyter.widget-view+json": {
       "model_id": "ea1ebe8358df405a8ea6afeefc7ba240",
       "version_major": 2,
       "version_minor": 0
      },
      "text/plain": [
       "Canvas(toolbar=Toolbar(toolitems=[('Home', 'Reset original view', 'home', 'home'), ('Back', 'Back to previous …"
      ]
     },
     "metadata": {},
     "output_type": "display_data"
    },
    {
     "data": {
      "application/vnd.jupyter.widget-view+json": {
       "model_id": "a2de7d1b736c49d7b446376e23eb1815",
       "version_major": 2,
       "version_minor": 0
      },
      "text/plain": [
       "Dropdown(description='Mostra:', index=1, options=(('SI', 1), ('NO', 2)), value=2)"
      ]
     },
     "metadata": {},
     "output_type": "display_data"
    }
   ],
   "source": [
    "#codice main\n",
    "#questo codice genera il grafico\n",
    "%matplotlib widget\n",
    "import matplotlib.pyplot as plt\n",
    "from IPython.display import display\n",
    "import pandas as pd\n",
    "import json\n",
    "import ipywidgets as widgets\n",
    "\n",
    "plt.ion()\n",
    "\n",
    "def get_coordinates(file):\n",
    "    x = []\n",
    "    y = []\n",
    "    file = open(file, \"r\")\n",
    "    jsonraw = json.load(file)\n",
    "    jsonraw = jsonraw[\"node\"]\n",
    "    for year in jsonraw[\"years\"]:\n",
    "        x.append(year[\"year\"])\n",
    "    for data in jsonraw[\"datas\"]:\n",
    "        y.append(data[\"data\"])\n",
    "    return x, y\n",
    "\n",
    "production_years, production_datas= get_coordinates(\"final-production-v2104.json\")\n",
    "production_fig, production_ax = plt.subplots()\n",
    "production_graph = production_ax.plot(production_years, production_datas)[0]\n",
    "\n",
    "price_years, price_datas = get_coordinates(\"final-price-v2304.json\")\n",
    "price_fig, price_ax = plt.subplots()\n",
    "price_graph = price_ax.plot(price_years, price_datas)[0]\n",
    "\n",
    "yield_years, yield_datas = get_coordinates(\"final-yield-v2304.json\")\n",
    "yield_fig, yield_ax = plt.subplots()\n",
    "yield_graph = yield_ax.plot(yield_years, yield_datas)[0]\n",
    "\n",
    "harvestedarea_years, harvestedarea_datas = get_coordinates(\"final-harvestedarea-v2304.json\")\n",
    "harvestedarea_fig, harvestedarea_ax = plt.subplots()\n",
    "harvestedarea_graph = harvestedarea_ax.plot(harvestedarea_years, harvestedarea_datas)[0]\n",
    "\n",
    "\n",
    "choose = widgets.Dropdown(\n",
    "    options=[('SI', 1), ('NO', 2)],\n",
    "    value=2,\n",
    "    description='Mostra:',\n",
    ")\n",
    "\n",
    "display(choose)  # Create a figure containing a single axes.\n",
    "\n",
    "\n",
    "def on_value_change(e):\n",
    "    if e[\"new\"] == 1:\n",
    "        print(\"ch\")\n",
    "choose.observe(on_value_change, names='value')    \n",
    "\n"
   ]
  },
  {
   "cell_type": "code",
   "execution_count": null,
   "id": "f6398c98",
   "metadata": {},
   "outputs": [],
   "source": [
    "\n"
   ]
  }
 ],
 "metadata": {
  "kernelspec": {
   "display_name": "Python 3",
   "language": "python",
   "name": "python3"
  },
  "language_info": {
   "codemirror_mode": {
    "name": "ipython",
    "version": 3
   },
   "file_extension": ".py",
   "mimetype": "text/x-python",
   "name": "python",
   "nbconvert_exporter": "python",
   "pygments_lexer": "ipython3",
   "version": "3.8.5"
  }
 },
 "nbformat": 4,
 "nbformat_minor": 5
}
