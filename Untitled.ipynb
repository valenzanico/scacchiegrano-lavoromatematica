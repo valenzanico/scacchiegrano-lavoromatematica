{
 "cells": [
  {
   "cell_type": "code",
   "execution_count": 1,
   "id": "32d5c85f-796f-4b45-8d19-e8c6bb031e2e",
   "metadata": {},
   "outputs": [
    {
     "data": {
      "application/vnd.jupyter.widget-view+json": {
       "model_id": "7bbbd4d73e2448b1baa4d1b86deff7ec",
       "version_major": 2,
       "version_minor": 0
      },
      "text/plain": [
       "Dropdown(description='Mostra:', index=1, options=(('SI', 1), ('NO', 2)), value=2)"
      ]
     },
     "metadata": {},
     "output_type": "display_data"
    },
    {
     "data": {
      "application/vnd.jupyter.widget-view+json": {
       "model_id": "f61ecc74765c4b58884e963f7e23c0db",
       "version_major": 2,
       "version_minor": 0
      },
      "text/plain": [
       "Canvas(toolbar=Toolbar(toolitems=[('Home', 'Reset original view', 'home', 'home'), ('Back', 'Back to previous …"
      ]
     },
     "metadata": {},
     "output_type": "display_data"
    },
    {
     "name": "stdout",
     "output_type": "stream",
     "text": [
      "2\n"
     ]
    }
   ],
   "source": [
    "#codice main\n",
    "#questo codice genera il grafico\n",
    "%matplotlib widget\n",
    "import matplotlib.pyplot as plt\n",
    "from IPython.display import display\n",
    "import pandas as pd\n",
    "import json\n",
    "import ipywidgets as widgets\n",
    "file = open(\"final-production-v2104.json\", \"r\")\n",
    "jsonraw = json.load(file)\n",
    "jsonraw = jsonraw[\"node\"]\n",
    "x = []\n",
    "y = []\n",
    "\n",
    "years = jsonraw[\"years\"]\n",
    "years.reverse()\n",
    "for year in years:\n",
    "    x.append(year[\"year\"])\n",
    "\n",
    "\n",
    "datas = jsonraw[\"datas\"]\n",
    "datas.reverse()\n",
    "for data in datas:\n",
    "    y.append(data[\"data\"])\n",
    "\n",
    "choose = widgets.Dropdown(\n",
    "    options=[('SI', 1), ('NO', 2)],\n",
    "    value=2,\n",
    "    description='Mostra:',\n",
    ")\n",
    "display(choose)\n",
    "fig, ax = plt.subplots()  # Create a figure containing a single axes.\n",
    "print(choose.value)\n",
    "def on_value_change(e):\n",
    "    if e[\"new\"] == 1:\n",
    "        ax.plot(x, y)\n",
    "choose.observe(on_value_change, names='value')    \n",
    "\n"
   ]
  },
  {
   "cell_type": "code",
   "execution_count": null,
   "id": "41de3a36-8423-4212-afce-36b0554c0aeb",
   "metadata": {},
   "outputs": [],
   "source": []
  },
  {
   "cell_type": "code",
   "execution_count": null,
   "id": "0681fb58-9da8-40c5-9847-caee5e619562",
   "metadata": {},
   "outputs": [],
   "source": []
  }
 ],
 "metadata": {
  "kernelspec": {
   "display_name": "Python 3",
   "language": "python",
   "name": "python3"
  },
  "language_info": {
   "codemirror_mode": {
    "name": "ipython",
    "version": 3
   },
   "file_extension": ".py",
   "mimetype": "text/x-python",
   "name": "python",
   "nbconvert_exporter": "python",
   "pygments_lexer": "ipython3",
   "version": "3.8.5"
  }
 },
 "nbformat": 4,
 "nbformat_minor": 5
}
