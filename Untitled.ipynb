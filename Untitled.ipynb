{
 "cells": [
  {
   "cell_type": "code",
   "execution_count": 11,
   "id": "6ad597f7",
   "metadata": {
    "scrolled": true
   },
   "outputs": [
    {
     "data": {
      "text/html": [
       "<script>\n",
       "code_show=true; \n",
       "function code_toggle() {\n",
       " if (code_show){\n",
       " $('div.input').hide();\n",
       " } else {\n",
       " $('div.input').show();\n",
       " }\n",
       " code_show = !code_show\n",
       "} \n",
       "$( document ).ready(code_toggle);\n",
       "\n",
       "function start_code() {\n",
       "require(\n",
       "        ['base/js/namespace', 'jquery'], \n",
       "        function(jupyter, $) {\n",
       "                console.log(\"Auto-running all cells-below...\");\n",
       "                jupyter.actions.call('jupyter-notebook:run-all-cells-below');\n",
       "                jupyter.actions.call('jupyter-notebook:save-notebook');\n",
       "            }\n",
       "    );\n",
       "}\n",
       "</script>\n",
       "<button onclick=\"start_code()\">fai partire l app</button>\n",
       "<button onclick=\"code_toggle()\">guarda/nascondi il codice</button>\n"
      ],
      "text/plain": [
       "<IPython.core.display.HTML object>"
      ]
     },
     "metadata": {},
     "output_type": "display_data"
    }
   ],
   "source": [
    "%%html\n",
    "<script>\n",
    "code_show=true; \n",
    "function code_toggle() {\n",
    " if (code_show){\n",
    " $('div.input').hide();\n",
    " } else {\n",
    " $('div.input').show();\n",
    " }\n",
    " code_show = !code_show\n",
    "} \n",
    "$( document ).ready(code_toggle);\n",
    "\n",
    "function start_code() {\n",
    "require(\n",
    "        ['base/js/namespace', 'jquery'], \n",
    "        function(jupyter, $) {\n",
    "                console.log(\"Auto-running all cells-below...\");\n",
    "                jupyter.actions.call('jupyter-notebook:run-all-cells-below');\n",
    "                jupyter.actions.call('jupyter-notebook:save-notebook');\n",
    "            }\n",
    "    );\n",
    "}\n",
    "</script>\n",
    "<button onclick=\"start_code()\">fai partire l app</button>\n",
    "<button onclick=\"code_toggle()\">guarda/nascondi il codice</button>\n"
   ]
  },
  {
   "cell_type": "code",
   "execution_count": 9,
   "id": "b2712468",
   "metadata": {
    "scrolled": true
   },
   "outputs": [
    {
     "name": "stdout",
     "output_type": "stream",
     "text": [
      "True\n"
     ]
    },
    {
     "data": {
      "application/vnd.jupyter.widget-view+json": {
       "model_id": "fe1e8a7301da49e4ad1263e78cc26508",
       "version_major": 2,
       "version_minor": 0
      },
      "text/plain": [
       "Dropdown(description='Mostra:', index=1, options=(('SI', 1), ('NO', 2)), value=2)"
      ]
     },
     "metadata": {},
     "output_type": "display_data"
    },
    {
     "data": {
      "application/vnd.jupyter.widget-view+json": {
       "model_id": "c728560a78f14dfe9292ad46468524d4",
       "version_major": 2,
       "version_minor": 0
      },
      "text/plain": [
       "Canvas(toolbar=Toolbar(toolitems=[('Home', 'Reset original view', 'home', 'home'), ('Back', 'Back to previous …"
      ]
     },
     "metadata": {},
     "output_type": "display_data"
    }
   ],
   "source": [
    "#codice main\n",
    "#questo codice genera il grafico\n",
    "%matplotlib widget\n",
    "import matplotlib.pyplot as plt\n",
    "from IPython.display import display\n",
    "import pandas as pd\n",
    "import json\n",
    "import ipywidgets as widgets\n",
    "file = open(\"final-production-v2104.json\", \"r\")\n",
    "jsonraw = json.load(file)\n",
    "jsonraw = jsonraw[\"node\"]\n",
    "x = []\n",
    "y = []\n",
    "\n",
    "plt.ion()\n",
    "\n",
    "years = jsonraw[\"years\"]\n",
    "years.reverse()\n",
    "for year in years:\n",
    "    x.append(year[\"year\"])\n",
    "\n",
    "\n",
    "datas = jsonraw[\"datas\"]\n",
    "datas.reverse()\n",
    "for data in datas:\n",
    "    y.append(data[\"data\"])\n",
    "\n",
    "choose = widgets.Dropdown(\n",
    "    options=[('SI', 1), ('NO', 2)],\n",
    "    value=2,\n",
    "    description='Mostra:',\n",
    ")\n",
    "\n",
    "display(choose)  # Create a figure containing a single axes.\n",
    "fig, ax = plt.subplots()\n",
    "def on_value_change(e):\n",
    "    if e[\"new\"] == 1:\n",
    "        ax.plot(x, y)\n",
    "choose.observe(on_value_change, names='value')    \n",
    "\n"
   ]
  }
 ],
 "metadata": {
  "kernelspec": {
   "display_name": "Python 3",
   "language": "python",
   "name": "python3"
  },
  "language_info": {
   "codemirror_mode": {
    "name": "ipython",
    "version": 3
   },
   "file_extension": ".py",
   "mimetype": "text/x-python",
   "name": "python",
   "nbconvert_exporter": "python",
   "pygments_lexer": "ipython3",
   "version": "3.8.5"
  },
  "widgets": {
   "application/vnd.jupyter.widget-state+json": {
    "state": {
     "144f8195865c42e5b1e8f281376b49d4": {
      "model_module": "jupyter-matplotlib",
      "model_module_version": "^0.9.0",
      "model_name": "ToolbarModel",
      "state": {
       "layout": "IPY_MODEL_b2fc0c5354db407cb144d495999257e4",
       "toolitems": [
        [
         "Home",
         "Reset original view",
         "home",
         "home"
        ],
        [
         "Back",
         "Back to previous view",
         "arrow-left",
         "back"
        ],
        [
         "Forward",
         "Forward to next view",
         "arrow-right",
         "forward"
        ],
        [
         "Pan",
         "Left button pans, Right button zooms\nx/y fixes axis, CTRL fixes aspect",
         "arrows",
         "pan"
        ],
        [
         "Zoom",
         "Zoom to rectangle\nx/y fixes axis, CTRL fixes aspect",
         "square-o",
         "zoom"
        ],
        [
         "Download",
         "Download plot",
         "floppy-o",
         "save_figure"
        ]
       ]
      }
     },
     "21a6dcda247e456d84b11d9a77912c9d": {
      "model_module": "@jupyter-widgets/controls",
      "model_module_version": "1.5.0",
      "model_name": "DropdownModel",
      "state": {
       "_options_labels": [
        "SI",
        "NO"
       ],
       "description": "Mostra:",
       "index": 0,
       "layout": "IPY_MODEL_6a1c7db957a34fd3a764d55b7e01d224",
       "style": "IPY_MODEL_8c655d86e48449c281b6b05d9221e5e8"
      }
     },
     "3fc6cd15b9b248ec85b9435072af9a92": {
      "model_module": "jupyter-matplotlib",
      "model_module_version": "^0.9.0",
      "model_name": "ToolbarModel",
      "state": {
       "layout": "IPY_MODEL_c95c99e988a84ac89b4f4ca56ebbb4ce",
       "toolitems": [
        [
         "Home",
         "Reset original view",
         "home",
         "home"
        ],
        [
         "Back",
         "Back to previous view",
         "arrow-left",
         "back"
        ],
        [
         "Forward",
         "Forward to next view",
         "arrow-right",
         "forward"
        ],
        [
         "Pan",
         "Left button pans, Right button zooms\nx/y fixes axis, CTRL fixes aspect",
         "arrows",
         "pan"
        ],
        [
         "Zoom",
         "Zoom to rectangle\nx/y fixes axis, CTRL fixes aspect",
         "square-o",
         "zoom"
        ],
        [
         "Download",
         "Download plot",
         "floppy-o",
         "save_figure"
        ]
       ]
      }
     },
     "4f9066e137124c90ac8fb3c610f8e3a0": {
      "model_module": "@jupyter-widgets/base",
      "model_module_version": "1.2.0",
      "model_name": "LayoutModel",
      "state": {}
     },
     "56405cc66f314c2fbaa894130d1bf60b": {
      "model_module": "@jupyter-widgets/controls",
      "model_module_version": "1.5.0",
      "model_name": "DescriptionStyleModel",
      "state": {
       "description_width": ""
      }
     },
     "6a1c7db957a34fd3a764d55b7e01d224": {
      "model_module": "@jupyter-widgets/base",
      "model_module_version": "1.2.0",
      "model_name": "LayoutModel",
      "state": {}
     },
     "74462895da0c428e9809b5194130b558": {
      "model_module": "@jupyter-widgets/base",
      "model_module_version": "1.2.0",
      "model_name": "LayoutModel",
      "state": {}
     },
     "74f7a469c00c4e5e82767b27bdefc32f": {
      "model_module": "@jupyter-widgets/base",
      "model_module_version": "1.2.0",
      "model_name": "LayoutModel",
      "state": {}
     },
     "8c655d86e48449c281b6b05d9221e5e8": {
      "model_module": "@jupyter-widgets/controls",
      "model_module_version": "1.5.0",
      "model_name": "DescriptionStyleModel",
      "state": {
       "description_width": ""
      }
     },
     "b2fc0c5354db407cb144d495999257e4": {
      "model_module": "@jupyter-widgets/base",
      "model_module_version": "1.2.0",
      "model_name": "LayoutModel",
      "state": {}
     },
     "becee6f9624c4b449705eccde3ca3997": {
      "model_module": "@jupyter-widgets/controls",
      "model_module_version": "1.5.0",
      "model_name": "DropdownModel",
      "state": {
       "_options_labels": [
        "SI",
        "NO"
       ],
       "description": "Mostra:",
       "index": 1,
       "layout": "IPY_MODEL_74f7a469c00c4e5e82767b27bdefc32f",
       "style": "IPY_MODEL_56405cc66f314c2fbaa894130d1bf60b"
      }
     },
     "c95c99e988a84ac89b4f4ca56ebbb4ce": {
      "model_module": "@jupyter-widgets/base",
      "model_module_version": "1.2.0",
      "model_name": "LayoutModel",
      "state": {}
     },
     "ebfc054436d94d4399ca03d825976ba7": {
      "model_module": "jupyter-matplotlib",
      "model_module_version": "^0.9.0",
      "model_name": "MPLCanvasModel",
      "state": {
       "_cursor": "default",
       "_figure_label": "Figure 1",
       "_height": 480,
       "_image_mode": "diff",
       "_width": 640,
       "layout": "IPY_MODEL_74462895da0c428e9809b5194130b558",
       "toolbar": "IPY_MODEL_144f8195865c42e5b1e8f281376b49d4",
       "toolbar_position": "left"
      }
     }
    },
    "version_major": 2,
    "version_minor": 0
   }
  }
 },
 "nbformat": 4,
 "nbformat_minor": 5
}
