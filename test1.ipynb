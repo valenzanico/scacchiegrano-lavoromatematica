{
 "cells": [
  {
   "cell_type": "code",
   "execution_count": 66,
   "id": "7316febd",
   "metadata": {
    "scrolled": true
   },
   "outputs": [
    {
     "data": {
      "text/markdown": [
       "\n",
       "# ciao\n",
       "### come va\n",
       "questo è un paragrafo\n",
       "``` \n",
       "questo è un codicfe\n",
       "```\n"
      ],
      "text/plain": [
       "<IPython.core.display.Markdown object>"
      ]
     },
     "metadata": {},
     "output_type": "display_data"
    },
    {
     "data": {
      "application/vnd.jupyter.widget-view+json": {
       "model_id": "65e303a666fd4929ab29e1e6acfaf7d3",
       "version_major": 2,
       "version_minor": 0
      },
      "text/plain": [
       "Canvas(toolbar=Toolbar(toolitems=[('Home', 'Reset original view', 'home', 'home'), ('Back', 'Back to previous …"
      ]
     },
     "metadata": {},
     "output_type": "display_data"
    },
    {
     "name": "stdout",
     "output_type": "stream",
     "text": [
      "None\n"
     ]
    }
   ],
   "source": [
    "%matplotlib widget\n",
    "\n",
    "import matplotlib.pyplot as plt\n",
    "import numpy as np\n",
    "from IPython.display import display, Markdown, Latex\n",
    "markdown = Markdown('''\n",
    "# ciao\n",
    "### come va\n",
    "questo è un paragrafo\n",
    "``` \n",
    "questo è un codicfe\n",
    "```\n",
    "''')\n",
    "\n",
    "display(markdown)\n",
    "# Testing matplotlib interactions with a simple plot\n",
    "fig = plt.figure()\n",
    "plt.plot([1,2,3,4], [2,3,4,1]);\n",
    "\n",
    "\n",
    "fig.canvas.toolbar_visible = False\n",
    "fig.canvas.header_visible = False # Hide the Figure name at the top of the figure\n",
    "fig.canvas.footer_visible = False\n",
    "\n",
    "fig.canvas.resizable = False\n",
    "fig.canvas.capture_scroll = True\n",
    "\n",
    "fig.canvas.toolbar_visible = True\n",
    "print(fig.canvas.layout.display)\n",
    "fig.canvas.layout.display = \"none\"\n",
    "fig.canvas.layout.display = \"inline-flex\"\n"
   ]
  },
  {
   "cell_type": "code",
   "execution_count": null,
   "id": "8242578c",
   "metadata": {},
   "outputs": [],
   "source": []
  },
  {
   "cell_type": "code",
   "execution_count": null,
   "id": "eba88ad7",
   "metadata": {},
   "outputs": [],
   "source": []
  }
 ],
 "metadata": {
  "kernelspec": {
   "display_name": "Python 3",
   "language": "python",
   "name": "python3"
  },
  "language_info": {
   "codemirror_mode": {
    "name": "ipython",
    "version": 3
   },
   "file_extension": ".py",
   "mimetype": "text/x-python",
   "name": "python",
   "nbconvert_exporter": "python",
   "pygments_lexer": "ipython3",
   "version": "3.8.5"
  }
 },
 "nbformat": 4,
 "nbformat_minor": 5
}
